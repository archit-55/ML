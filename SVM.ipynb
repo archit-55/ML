{
  "nbformat": 4,
  "nbformat_minor": 0,
  "metadata": {
    "colab": {
      "name": "SVM.ipynb",
      "version": "0.3.2",
      "provenance": [],
      "collapsed_sections": [],
      "include_colab_link": true
    },
    "kernelspec": {
      "name": "python3",
      "display_name": "Python 3"
    }
  },
  "cells": [
    {
      "cell_type": "markdown",
      "metadata": {
        "id": "view-in-github",
        "colab_type": "text"
      },
      "source": [
        "<a href=\"https://colab.research.google.com/github/archit-55/ML/blob/supervisedML/SVM.ipynb\" target=\"_parent\"><img src=\"https://colab.research.google.com/assets/colab-badge.svg\" alt=\"Open In Colab\"/></a>"
      ]
    },
    {
      "cell_type": "code",
      "metadata": {
        "id": "0dXb2GwJcw40",
        "colab_type": "code",
        "colab": {}
      },
      "source": [
        "from sklearn.datasets import load_digits\n"
      ],
      "execution_count": 0,
      "outputs": []
    },
    {
      "cell_type": "code",
      "metadata": {
        "id": "qzZwmFXSc3h6",
        "colab_type": "code",
        "colab": {}
      },
      "source": [
        "#    loading digit data\n",
        "digit=load_digits()"
      ],
      "execution_count": 0,
      "outputs": []
    },
    {
      "cell_type": "code",
      "metadata": {
        "id": "bf9ZNL6ndLTN",
        "colab_type": "code",
        "colab": {
          "base_uri": "https://localhost:8080/",
          "height": 34
        },
        "outputId": "c01e17ba-554e-4390-efe3-68dc707d5914"
      },
      "source": [
        "#    desc\n",
        "dir(digit)\n"
      ],
      "execution_count": 3,
      "outputs": [
        {
          "output_type": "execute_result",
          "data": {
            "text/plain": [
              "['DESCR', 'data', 'images', 'target', 'target_names']"
            ]
          },
          "metadata": {
            "tags": []
          },
          "execution_count": 3
        }
      ]
    },
    {
      "cell_type": "code",
      "metadata": {
        "id": "f0Y0KoXgVRIY",
        "colab_type": "code",
        "colab": {}
      },
      "source": [
        "#    features \n",
        "features=digit.data"
      ],
      "execution_count": 0,
      "outputs": []
    },
    {
      "cell_type": "code",
      "metadata": {
        "id": "N53P2esOVUNy",
        "colab_type": "code",
        "colab": {}
      },
      "source": [
        "#   label\n",
        "label=digit.target"
      ],
      "execution_count": 0,
      "outputs": []
    },
    {
      "cell_type": "code",
      "metadata": {
        "id": "JhtIQ7L0klkp",
        "colab_type": "code",
        "colab": {}
      },
      "source": [
        "#    training and testing\n",
        "from sklearn.model_selection  import train_test_split\n",
        "X,x,Y,y=train_test_split(features,label,test_size=0.2)"
      ],
      "execution_count": 0,
      "outputs": []
    },
    {
      "cell_type": "code",
      "metadata": {
        "id": "Th4I1e8-nwVS",
        "colab_type": "code",
        "colab": {}
      },
      "source": [
        "#    data visualize\n",
        "import matplotlib.pyplot as plt"
      ],
      "execution_count": 0,
      "outputs": []
    },
    {
      "cell_type": "code",
      "metadata": {
        "id": "i0Ps5uZAoDOV",
        "colab_type": "code",
        "colab": {
          "base_uri": "https://localhost:8080/",
          "height": 286
        },
        "outputId": "9ba91521-80d6-4302-8270-783941be7527"
      },
      "source": [
        "plt.imshow(digit.images[0])"
      ],
      "execution_count": 8,
      "outputs": [
        {
          "output_type": "execute_result",
          "data": {
            "text/plain": [
              "<matplotlib.image.AxesImage at 0x7f11389a8d68>"
            ]
          },
          "metadata": {
            "tags": []
          },
          "execution_count": 8
        },
        {
          "output_type": "display_data",
          "data": {
            "image/png": "[encoded data removed]",
            "text/plain": [
              "<Figure size 432x288 with 1 Axes>"
            ]
          },
          "metadata": {
            "tags": []
          }
        }
      ]
    },
    {
      "cell_type": "code",
      "metadata": {
        "id": "rTcAq3dYoHGm",
        "colab_type": "code",
        "colab": {}
      },
      "source": [
        "#  now calling SVC\n",
        "from sklearn.svm import SVC"
      ],
      "execution_count": 0,
      "outputs": []
    },
    {
      "cell_type": "code",
      "metadata": {
        "id": "yawCt_x3oywx",
        "colab_type": "code",
        "colab": {}
      },
      "source": [
        "#     calling clf\n",
        "clf=SVC()"
      ],
      "execution_count": 0,
      "outputs": []
    },
    {
      "cell_type": "code",
      "metadata": {
        "id": "S1JhtBPezt87",
        "colab_type": "code",
        "colab": {
          "base_uri": "https://localhost:8080/",
          "height": 71
        },
        "outputId": "11f24e29-cedf-457e-f62c-fd0967d06331"
      },
      "source": [
        "#    now training my clf\n",
        "trained=clf.fit(X,Y)"
      ],
      "execution_count": 11,
      "outputs": [
        {
          "output_type": "stream",
          "text": [
            "/usr/local/lib/python3.6/dist-packages/sklearn/svm/base.py:193: FutureWarning: The default value of gamma will change from 'auto' to 'scale' in version 0.22 to account better for unscaled features. Set gamma explicitly to 'auto' or 'scale' to avoid this warning.\n",
            "  \"avoid this warning.\", FutureWarning)\n"
          ],
          "name": "stderr"
        }
      ]
    },
    {
      "cell_type": "code",
      "metadata": {
        "id": "_vw3IGcMzvnN",
        "colab_type": "code",
        "colab": {}
      },
      "source": [
        "#    now time for prediction \n",
        "output=trained.predict(x)"
      ],
      "execution_count": 0,
      "outputs": []
    },
    {
      "cell_type": "code",
      "metadata": {
        "id": "G3KM-n6azxdO",
        "colab_type": "code",
        "colab": {
          "base_uri": "https://localhost:8080/",
          "height": 306
        },
        "outputId": "293fcaa7-c990-4464-fe64-8e49e579864f"
      },
      "source": [
        "output"
      ],
      "execution_count": 13,
      "outputs": [
        {
          "output_type": "execute_result",
          "data": {
            "text/plain": [
              "array([5, 9, 1, 9, 9, 9, 9, 7, 7, 9, 9, 1, 9, 9, 9, 9, 9, 9, 6, 9, 1, 4,\n",
              "       9, 9, 9, 9, 1, 9, 9, 9, 0, 1, 9, 9, 9, 9, 1, 5, 9, 5, 9, 9, 4, 3,\n",
              "       9, 9, 9, 6, 9, 9, 9, 9, 6, 9, 9, 9, 9, 6, 7, 9, 9, 9, 9, 9, 9, 9,\n",
              "       0, 9, 9, 1, 9, 9, 9, 9, 9, 9, 9, 3, 9, 9, 9, 9, 9, 3, 0, 0, 1, 9,\n",
              "       9, 6, 9, 2, 9, 9, 9, 6, 9, 9, 3, 9, 9, 5, 9, 4, 9, 9, 9, 1, 9, 9,\n",
              "       9, 1, 9, 9, 9, 1, 9, 6, 9, 9, 0, 9, 9, 9, 9, 9, 6, 9, 4, 9, 4, 0,\n",
              "       9, 9, 1, 3, 3, 9, 9, 9, 3, 2, 7, 9, 6, 9, 9, 9, 1, 1, 9, 9, 9, 9,\n",
              "       1, 3, 5, 0, 9, 0, 7, 0, 9, 9, 9, 9, 9, 6, 7, 7, 9, 9, 9, 9, 9, 9,\n",
              "       9, 9, 8, 9, 9, 9, 1, 9, 7, 6, 9, 9, 9, 3, 9, 9, 9, 9, 7, 7, 6, 9,\n",
              "       9, 9, 9, 9, 0, 8, 9, 1, 9, 9, 9, 9, 9, 9, 9, 9, 9, 0, 6, 9, 9, 9,\n",
              "       7, 9, 9, 9, 9, 7, 9, 0, 9, 9, 9, 9, 9, 9, 9, 9, 7, 9, 9, 9, 9, 9,\n",
              "       9, 9, 9, 1, 9, 9, 9, 9, 9, 9, 9, 9, 9, 7, 6, 9, 9, 0, 9, 9, 9, 9,\n",
              "       9, 0, 9, 0, 9, 9, 7, 9, 9, 9, 9, 6, 9, 6, 3, 3, 9, 9, 9, 9, 9, 5,\n",
              "       5, 9, 4, 9, 6, 9, 3, 9, 5, 6, 6, 9, 3, 9, 6, 9, 9, 9, 9, 6, 0, 9,\n",
              "       9, 9, 9, 9, 9, 9, 5, 9, 5, 0, 9, 9, 0, 9, 9, 9, 9, 9, 9, 7, 9, 9,\n",
              "       9, 9, 9, 4, 9, 3, 9, 9, 4, 9, 9, 9, 9, 9, 9, 9, 9, 9, 3, 9, 0, 4,\n",
              "       3, 2, 9, 9, 9, 9, 9, 5])"
            ]
          },
          "metadata": {
            "tags": []
          },
          "execution_count": 13
        }
      ]
    },
    {
      "cell_type": "code",
      "metadata": {
        "id": "Cv5wEsTHzzjF",
        "colab_type": "code",
        "colab": {
          "base_uri": "https://localhost:8080/",
          "height": 306
        },
        "outputId": "7469f6c5-d34f-4ff3-e603-60c7c4ff5a23"
      },
      "source": [
        "y               #small y"
      ],
      "execution_count": 14,
      "outputs": [
        {
          "output_type": "execute_result",
          "data": {
            "text/plain": [
              "array([5, 7, 1, 0, 5, 2, 8, 7, 7, 3, 9, 1, 5, 2, 9, 4, 1, 9, 6, 6, 1, 4,\n",
              "       2, 3, 7, 3, 1, 2, 8, 8, 0, 1, 5, 0, 9, 3, 1, 5, 7, 5, 8, 9, 4, 3,\n",
              "       2, 2, 2, 6, 7, 5, 6, 2, 6, 2, 2, 0, 5, 6, 7, 5, 4, 2, 7, 8, 2, 4,\n",
              "       0, 4, 1, 1, 4, 8, 0, 2, 4, 8, 3, 3, 9, 0, 3, 1, 9, 3, 0, 0, 1, 2,\n",
              "       4, 6, 0, 2, 8, 8, 3, 6, 4, 2, 3, 2, 7, 5, 0, 4, 2, 1, 4, 1, 7, 3,\n",
              "       2, 1, 2, 8, 4, 1, 2, 6, 4, 8, 0, 2, 6, 0, 4, 2, 6, 8, 4, 6, 4, 0,\n",
              "       6, 2, 1, 3, 3, 9, 2, 7, 3, 2, 7, 3, 6, 4, 5, 0, 1, 1, 1, 4, 0, 7,\n",
              "       1, 3, 5, 0, 5, 0, 7, 0, 5, 8, 2, 6, 0, 6, 7, 7, 4, 8, 8, 7, 1, 5,\n",
              "       6, 2, 8, 4, 5, 8, 1, 8, 7, 6, 2, 8, 1, 3, 4, 9, 2, 3, 7, 7, 6, 9,\n",
              "       7, 8, 0, 4, 0, 8, 9, 1, 2, 6, 9, 8, 4, 3, 3, 9, 1, 0, 6, 4, 9, 2,\n",
              "       7, 7, 2, 3, 3, 7, 9, 0, 4, 0, 5, 6, 3, 9, 5, 4, 7, 7, 9, 9, 5, 3,\n",
              "       2, 8, 4, 1, 9, 1, 1, 2, 5, 4, 8, 9, 2, 7, 6, 2, 8, 0, 5, 8, 5, 9,\n",
              "       2, 0, 2, 0, 5, 0, 7, 3, 3, 3, 1, 6, 8, 6, 3, 3, 4, 2, 8, 5, 3, 5,\n",
              "       5, 9, 4, 5, 6, 6, 3, 0, 5, 6, 6, 8, 3, 4, 6, 2, 8, 1, 4, 6, 0, 9,\n",
              "       2, 4, 0, 2, 8, 5, 5, 9, 5, 0, 4, 0, 0, 7, 4, 3, 7, 8, 6, 7, 9, 6,\n",
              "       2, 2, 9, 4, 4, 3, 3, 5, 4, 8, 4, 5, 3, 2, 2, 7, 8, 2, 3, 2, 0, 4,\n",
              "       3, 2, 8, 8, 9, 2, 0, 5])"
            ]
          },
          "metadata": {
            "tags": []
          },
          "execution_count": 14
        }
      ]
    },
    {
      "cell_type": "code",
      "metadata": {
        "id": "wQlaDLe4z1NL",
        "colab_type": "code",
        "colab": {}
      },
      "source": [
        "from sklearn.metrics import accuracy_score"
      ],
      "execution_count": 0,
      "outputs": []
    },
    {
      "cell_type": "code",
      "metadata": {
        "id": "iEXeeClfz3PL",
        "colab_type": "code",
        "colab": {
          "base_uri": "https://localhost:8080/",
          "height": 34
        },
        "outputId": "aa7ed2b0-a474-489d-a99b-d809f14c4803"
      },
      "source": [
        "accuracy_score(output,y)"
      ],
      "execution_count": 16,
      "outputs": [
        {
          "output_type": "execute_result",
          "data": {
            "text/plain": [
              "0.39444444444444443"
            ]
          },
          "metadata": {
            "tags": []
          },
          "execution_count": 16
        }
      ]
    },
    {
      "cell_type": "code",
      "metadata": {
        "id": "oyEwZlvmz6nD",
        "colab_type": "code",
        "colab": {}
      },
      "source": [
        ""
      ],
      "execution_count": 0,
      "outputs": []
    }
  ]
}