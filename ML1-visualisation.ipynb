{
  "nbformat": 4,
  "nbformat_minor": 0,
  "metadata": {
    "colab": {
      "name": "Untitled1.ipynb",
      "version": "0.3.2",
      "provenance": [],
      "include_colab_link": true
    },
    "kernelspec": {
      "name": "python3",
      "display_name": "Python 3"
    }
  },
  "cells": [
    {
      "cell_type": "markdown",
      "metadata": {
        "id": "view-in-github",
        "colab_type": "text"
      },
      "source": [
        "<a href=\"https://colab.research.google.com/github/archit-55/ML/blob/master/ML1-visualisation.ipynb\" target=\"_parent\"><img src=\"https://colab.research.google.com/assets/colab-badge.svg\" alt=\"Open In Colab\"/></a>"
      ]
    },
    {
      "cell_type": "code",
      "metadata": {
        "id": "yL6onZB5T9QE",
        "colab_type": "code",
        "colab": {
          "base_uri": "https://localhost:8080/",
          "height": 2941
        },
        "outputId": "efd2d27b-369f-4662-c6d5-bf0d0eef9822"
      },
      "source": [
        "import matplotlib\n",
        "dir(matplotlib)"
      ],
      "execution_count": 1,
      "outputs": [
        {
          "output_type": "execute_result",
          "data": {
            "text/plain": [
              "['MatplotlibDeprecationWarning',\n",
              " 'MutableMapping',\n",
              " 'Parameter',\n",
              " 'Path',\n",
              " 'RcParams',\n",
              " 'URL_REGEX',\n",
              " 'Verbose',\n",
              " '_DATA_DOC_APPENDIX',\n",
              " '__bibtex__',\n",
              " '__builtins__',\n",
              " '__cached__',\n",
              " '__doc__',\n",
              " '__file__',\n",
              " '__loader__',\n",
              " '__name__',\n",
              " '__package__',\n",
              " '__path__',\n",
              " '__spec__',\n",
              " '__version__',\n",
              " '__version__numpy__',\n",
              " '__warningregistry__',\n",
              " '_add_data_doc',\n",
              " '_all_deprecated',\n",
              " '_cm',\n",
              " '_cm_listed',\n",
              " '_color_data',\n",
              " '_constrained_layout',\n",
              " '_contour',\n",
              " '_create_tmp_config_dir',\n",
              " '_deprecated_ignore_map',\n",
              " '_deprecated_map',\n",
              " '_deprecated_remain_as_none',\n",
              " '_error_details_fmt',\n",
              " '_get_config_or_cache_dir',\n",
              " '_get_data_path',\n",
              " '_get_xdg_cache_dir',\n",
              " '_get_xdg_config_dir',\n",
              " '_image',\n",
              " '_init_tests',\n",
              " '_layoutbox',\n",
              " '_log',\n",
              " '_logged_cached',\n",
              " '_mathtext_data',\n",
              " '_open_file_or_url',\n",
              " '_parse_commandline',\n",
              " '_path',\n",
              " '_png',\n",
              " '_preprocess_data',\n",
              " '_pylab_helpers',\n",
              " '_qhull',\n",
              " '_rc_params_in_file',\n",
              " '_replacer',\n",
              " '_set_logger_verbose_level',\n",
              " '_tri',\n",
              " '_verbose_msg',\n",
              " '_version',\n",
              " 'afm',\n",
              " 'artist',\n",
              " 'atexit',\n",
              " 'axes',\n",
              " 'axis',\n",
              " 'backend_bases',\n",
              " 'backend_tools',\n",
              " 'backends',\n",
              " 'bezier',\n",
              " 'blocking_input',\n",
              " 'category',\n",
              " 'cbook',\n",
              " 'checkdep_dvipng',\n",
              " 'checkdep_ghostscript',\n",
              " 'checkdep_inkscape',\n",
              " 'checkdep_pdftops',\n",
              " 'checkdep_ps_distiller',\n",
              " 'checkdep_usetex',\n",
              " 'cm',\n",
              " 'collections',\n",
              " 'colorbar',\n",
              " 'colors',\n",
              " 'compare_versions',\n",
              " 'container',\n",
              " 'contextlib',\n",
              " 'contour',\n",
              " 'cycler',\n",
              " 'dates',\n",
              " 'dateutil',\n",
              " 'dedent',\n",
              " 'defaultParams',\n",
              " 'default_test_modules',\n",
              " 'distutils',\n",
              " 'docstring',\n",
              " 'dviread',\n",
              " 'figure',\n",
              " 'font_manager',\n",
              " 'fontconfig_pattern',\n",
              " 'ft2font',\n",
              " 'functools',\n",
              " 'get_backend',\n",
              " 'get_cachedir',\n",
              " 'get_configdir',\n",
              " 'get_data_path',\n",
              " 'get_home',\n",
              " 'get_label',\n",
              " 'get_py2exe_datafiles',\n",
              " 'gridspec',\n",
              " 'image',\n",
              " 'importlib',\n",
              " 'inspect',\n",
              " 'interactive',\n",
              " 'io',\n",
              " 'is_interactive',\n",
              " 'is_url',\n",
              " 'legend',\n",
              " 'legend_handler',\n",
              " 'lines',\n",
              " 'locale',\n",
              " 'logging',\n",
              " 'markers',\n",
              " 'mathtext',\n",
              " 'matplotlib_fname',\n",
              " 'mlab',\n",
              " 'mplDeprecation',\n",
              " 'numpy',\n",
              " 'offsetbox',\n",
              " 'os',\n",
              " 'patches',\n",
              " 'path',\n",
              " 'pprint',\n",
              " 'projections',\n",
              " 'pyparsing',\n",
              " 'pyplot',\n",
              " 'quiver',\n",
              " 'rc',\n",
              " 'rcParams',\n",
              " 'rcParamsDefault',\n",
              " 'rcParamsOrig',\n",
              " 'rc_context',\n",
              " 'rc_file',\n",
              " 'rc_file_defaults',\n",
              " 'rc_params',\n",
              " 'rc_params_from_file',\n",
              " 'rcdefaults',\n",
              " 'rcsetup',\n",
              " 're',\n",
              " 'sanitize_sequence',\n",
              " 'scale',\n",
              " 'shutil',\n",
              " 'spines',\n",
              " 'stackplot',\n",
              " 'stat',\n",
              " 'streamplot',\n",
              " 'style',\n",
              " 'subprocess',\n",
              " 'sys',\n",
              " 'table',\n",
              " 'tempfile',\n",
              " 'test',\n",
              " 'texmanager',\n",
              " 'text',\n",
              " 'textpath',\n",
              " 'ticker',\n",
              " 'tight_bbox',\n",
              " 'tight_layout',\n",
              " 'tk_window_focus',\n",
              " 'transforms',\n",
              " 'tri',\n",
              " 'units',\n",
              " 'urllib',\n",
              " 'use',\n",
              " 'validate_backend',\n",
              " 'verbose',\n",
              " 'warnings',\n",
              " 'widgets']"
            ]
          },
          "metadata": {
            "tags": []
          },
          "execution_count": 1
        }
      ]
    },
    {
      "cell_type": "code",
      "metadata": {
        "id": "fPyu8hxLUDPU",
        "colab_type": "code",
        "colab": {}
      },
      "source": [
        "del(matplotlib)"
      ],
      "execution_count": 0,
      "outputs": []
    },
    {
      "cell_type": "code",
      "metadata": {
        "id": "ZAneReFpUYq-",
        "colab_type": "code",
        "colab": {
          "base_uri": "https://localhost:8080/",
          "height": 283
        },
        "outputId": "4c7de753-b43b-4caa-fc62-f4c287fecaff"
      },
      "source": [
        "import matplotlib.pyplot as plt\n",
        "# only loading python oriented libraries\n",
        "x=[2,3]\n",
        "x1=[4,3,8]\n",
        "y=[9,5]\n",
        "y1=[2,9,7]\n",
        "\n",
        "\n",
        "plt.xlabel(\"time\")\n",
        "plt.ylabel(\"speed\")\n",
        "plt.plot(x,y,label=\"water\")  #this will draw a straight line\n",
        "plt.plot(x1,y1,label=\"sand\")\n",
        "plt.bar(x1,y1)         #to plot bar graphs\n",
        "plt.bar(x,y)          # to plot bar graphs\n",
        "plt.grid(color='green')     #to form grids in graph\n",
        "plt.legend()   #to show labels with plot\n",
        "plt.xlim(0,12)    # to show min and max no. in  x-axis\n",
        "plt.ylim(0,15)     # to show min and max no. in  y-axis\n",
        "plt.show()"
      ],
      "execution_count": 19,
      "outputs": [
        {
          "output_type": "display_data",
          "data": {
            "image/png": "[encoded data removed]",
            "text/plain": [
              "<Figure size 432x288 with 1 Axes>"
            ]
          },
          "metadata": {
            "tags": []
          }
        }
      ]
    },
    {
      "cell_type": "code",
      "metadata": {
        "id": "RZWzi58fVHAD",
        "colab_type": "code",
        "colab": {
          "base_uri": "https://localhost:8080/",
          "height": 300
        },
        "outputId": "72c99df8-ecb3-4d03-c2d0-37ee3326b8c7"
      },
      "source": [
        "import matplotlib.pyplot as plt\n",
        "# only loading python oriented libraries\n",
        "\n",
        "player=[\"Virat\",\"MS Dhoni\",\"Pandya\"]\n",
        "runs=[120,150,100]\n",
        "plt.xlabel(\"player\")\n",
        "plt.ylabel(\"runs\")\n",
        "plt.bar(player,runs)\n",
        "plt.legend()\n",
        "plt.show()"
      ],
      "execution_count": 24,
      "outputs": [
        {
          "output_type": "stream",
          "text": [
            "No handles with labels found to put in legend.\n"
          ],
          "name": "stderr"
        },
        {
          "output_type": "display_data",
          "data": {
            "image/png": "[encoded data removed]",
            "text/plain": [
              "<Figure size 432x288 with 1 Axes>"
            ]
          },
          "metadata": {
            "tags": []
          }
        }
      ]
    },
    {
      "cell_type": "code",
      "metadata": {
        "id": "j4Mxb3CIaExy",
        "colab_type": "code",
        "colab": {}
      },
      "source": [
        ""
      ],
      "execution_count": 0,
      "outputs": []
    }
  ]
}