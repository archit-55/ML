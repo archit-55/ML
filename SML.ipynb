{
  "nbformat": 4,
  "nbformat_minor": 0,
  "metadata": {
    "colab": {
      "name": "SML.ipynb",
      "version": "0.3.2",
      "provenance": [],
      "collapsed_sections": []
    },
    "kernelspec": {
      "name": "python3",
      "display_name": "Python 3"
    }
  },
  "cells": [
    {
      "cell_type": "code",
      "metadata": {
        "id": "oDP1ahZzBUpK",
        "colab_type": "code",
        "colab": {}
      },
      "source": [
        "import numpy as np\n",
        "import pandas as pd\n",
        "from sklearn.tree import DecisionTreeClassifier    #importing decisiontree classifier only"
      ],
      "execution_count": 0,
      "outputs": []
    },
    {
      "cell_type": "code",
      "metadata": {
        "id": "O-NXsUsHBizw",
        "colab_type": "code",
        "colab": {}
      },
      "source": [
        "#   this is apple and orange\n",
        "#     here smooth is for apple and bumpy is for orange\n",
        "features=[[100,0],[120,0],[130,1],[150,1]]\n",
        "#   here 0 means smooth and 1 means or bumpy"
      ],
      "execution_count": 0,
      "outputs": []
    },
    {
      "cell_type": "code",
      "metadata": {
        "id": "OH8s5gbsgfYk",
        "colab_type": "code",
        "colab": {}
      },
      "source": [
        "#   now answers accordingly\n",
        "label=['apple','apple','orange','orange']"
      ],
      "execution_count": 0,
      "outputs": []
    },
    {
      "cell_type": "code",
      "metadata": {
        "id": "-9q3xtiFglsb",
        "colab_type": "code",
        "colab": {}
      },
      "source": [
        "#    calling decision tree\n",
        "\n",
        "clf=DecisionTreeClassifier()"
      ],
      "execution_count": 0,
      "outputs": []
    },
    {
      "cell_type": "code",
      "metadata": {
        "id": "ZGkQytA2goiN",
        "colab_type": "code",
        "colab": {}
      },
      "source": [
        "#    now time for training data\n",
        "trained=clf.fit(features,label)"
      ],
      "execution_count": 0,
      "outputs": []
    },
    {
      "cell_type": "code",
      "metadata": {
        "id": "JObkktRMgrE4",
        "colab_type": "code",
        "outputId": "d3fdc5b0-1d54-4249-f9a7-edde70bf5494",
        "colab": {
          "base_uri": "https://localhost:8080/",
          "height": 34
        }
      },
      "source": [
        "#   now pedicting\n",
        "\n",
        "trained.predict([[133,0]])"
      ],
      "execution_count": 0,
      "outputs": [
        {
          "output_type": "execute_result",
          "data": {
            "text/plain": [
              "array(['orange'], dtype='<U6')"
            ]
          },
          "metadata": {
            "tags": []
          },
          "execution_count": 6
        }
      ]
    },
    {
      "cell_type": "code",
      "metadata": {
        "id": "ZX8LS4hJgtqq",
        "colab_type": "code",
        "colab": {}
      },
      "source": [
        ""
      ],
      "execution_count": 0,
      "outputs": []
    }
  ]
}