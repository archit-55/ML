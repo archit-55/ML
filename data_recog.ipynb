{
  "nbformat": 4,
  "nbformat_minor": 0,
  "metadata": {
    "colab": {
      "name": "data_recog.ipynb",
      "version": "0.3.2",
      "provenance": [],
      "collapsed_sections": [],
      "include_colab_link": true
    },
    "kernelspec": {
      "name": "python3",
      "display_name": "Python 3"
    }
  },
  "cells": [
    {
      "cell_type": "markdown",
      "metadata": {
        "id": "view-in-github",
        "colab_type": "text"
      },
      "source": [
        "<a href=\"https://colab.research.google.com/github/archit-55/ML/blob/supervisedML/data_recog.ipynb\" target=\"_parent\"><img src=\"https://colab.research.google.com/assets/colab-badge.svg\" alt=\"Open In Colab\"/></a>"
      ]
    },
    {
      "cell_type": "code",
      "metadata": {
        "id": "rsy39JpLjgiF",
        "colab_type": "code",
        "colab": {}
      },
      "source": [
        "#    loading digits data\n",
        "from sklearn.datasets import load_digits"
      ],
      "execution_count": 0,
      "outputs": []
    },
    {
      "cell_type": "code",
      "metadata": {
        "id": "aW8YKLMNjlHn",
        "colab_type": "code",
        "colab": {}
      },
      "source": [
        "#    loading data\n",
        "digit_data=load_digits()"
      ],
      "execution_count": 0,
      "outputs": []
    },
    {
      "cell_type": "code",
      "metadata": {
        "id": "tKWT-JVpjqoR",
        "colab_type": "code",
        "colab": {
          "base_uri": "https://localhost:8080/",
          "height": 34
        },
        "outputId": "aac96f03-7a49-4649-85e1-f9787556ee66"
      },
      "source": [
        "#   exploring data\n",
        "dir(digit_data)"
      ],
      "execution_count": 3,
      "outputs": [
        {
          "output_type": "execute_result",
          "data": {
            "text/plain": [
              "['DESCR', 'data', 'images', 'target', 'target_names']"
            ]
          },
          "metadata": {
            "tags": []
          },
          "execution_count": 3
        }
      ]
    },
    {
      "cell_type": "code",
      "metadata": {
        "id": "b5gQwFQ_jtQW",
        "colab_type": "code",
        "colab": {
          "base_uri": "https://localhost:8080/",
          "height": 34
        },
        "outputId": "d19eb6b6-9172-408c-d3f7-e3eef5c5b8ef"
      },
      "source": [
        "#   output that we want\n",
        "digit_data.target_names"
      ],
      "execution_count": 4,
      "outputs": [
        {
          "output_type": "execute_result",
          "data": {
            "text/plain": [
              "array([0, 1, 2, 3, 4, 5, 6, 7, 8, 9])"
            ]
          },
          "metadata": {
            "tags": []
          },
          "execution_count": 4
        }
      ]
    },
    {
      "cell_type": "code",
      "metadata": {
        "id": "XlrtPNjxjvYG",
        "colab_type": "code",
        "colab": {}
      },
      "source": [
        "#  describing data\n",
        " #digit_data.DESCR"
      ],
      "execution_count": 0,
      "outputs": []
    },
    {
      "cell_type": "code",
      "metadata": {
        "id": "0kWYv3gDjxs9",
        "colab_type": "code",
        "colab": {}
      },
      "source": [
        "#  training data\n",
        "label=digit_data.target"
      ],
      "execution_count": 0,
      "outputs": []
    },
    {
      "cell_type": "code",
      "metadata": {
        "id": "86KBdTLRjznh",
        "colab_type": "code",
        "colab": {
          "base_uri": "https://localhost:8080/",
          "height": 34
        },
        "outputId": "8759d211-2d4b-43bc-abb9-7045c73465b9"
      },
      "source": [
        "#   shape of label\n",
        "label.shape"
      ],
      "execution_count": 7,
      "outputs": [
        {
          "output_type": "execute_result",
          "data": {
            "text/plain": [
              "(1797,)"
            ]
          },
          "metadata": {
            "tags": []
          },
          "execution_count": 7
        }
      ]
    },
    {
      "cell_type": "code",
      "metadata": {
        "id": "IDqRs_cCj2a3",
        "colab_type": "code",
        "colab": {}
      },
      "source": [
        "#   actual images\n",
        "images=digit_data.images"
      ],
      "execution_count": 0,
      "outputs": []
    },
    {
      "cell_type": "code",
      "metadata": {
        "id": "DXwHP7JXj4QZ",
        "colab_type": "code",
        "colab": {
          "base_uri": "https://localhost:8080/",
          "height": 153
        },
        "outputId": "62497546-7345-4339-e0aa-dcec44832037"
      },
      "source": [
        "images[5]            #image of zero"
      ],
      "execution_count": 9,
      "outputs": [
        {
          "output_type": "execute_result",
          "data": {
            "text/plain": [
              "array([[ 0.,  0., 12., 10.,  0.,  0.,  0.,  0.],\n",
              "       [ 0.,  0., 14., 16., 16., 14.,  0.,  0.],\n",
              "       [ 0.,  0., 13., 16., 15., 10.,  1.,  0.],\n",
              "       [ 0.,  0., 11., 16., 16.,  7.,  0.,  0.],\n",
              "       [ 0.,  0.,  0.,  4.,  7., 16.,  7.,  0.],\n",
              "       [ 0.,  0.,  0.,  0.,  4., 16.,  9.,  0.],\n",
              "       [ 0.,  0.,  5.,  4., 12., 16.,  4.,  0.],\n",
              "       [ 0.,  0.,  9., 16., 16., 10.,  0.,  0.]])"
            ]
          },
          "metadata": {
            "tags": []
          },
          "execution_count": 9
        }
      ]
    },
    {
      "cell_type": "code",
      "metadata": {
        "id": "9e4XZokUj6Rt",
        "colab_type": "code",
        "colab": {}
      },
      "source": [
        "#   visual of zero\n",
        "import matplotlib.pyplot as plt\n"
      ],
      "execution_count": 0,
      "outputs": []
    },
    {
      "cell_type": "code",
      "metadata": {
        "id": "FFfSwr7Xj8Uy",
        "colab_type": "code",
        "colab": {
          "base_uri": "https://localhost:8080/",
          "height": 286
        },
        "outputId": "ef232421-5cdf-45bd-dcd9-36c7bf14b604"
      },
      "source": [
        "plt.imshow(images[5])"
      ],
      "execution_count": 11,
      "outputs": [
        {
          "output_type": "execute_result",
          "data": {
            "text/plain": [
              "<matplotlib.image.AxesImage at 0x7f6d7ee64748>"
            ]
          },
          "metadata": {
            "tags": []
          },
          "execution_count": 11
        },
        {
          "output_type": "display_data",
          "data": {
            "image/png": "[encoded data removed]",
            "text/plain": [
              "<Figure size 432x288 with 1 Axes>"
            ]
          },
          "metadata": {
            "tags": []
          }
        }
      ]
    },
    {
      "cell_type": "code",
      "metadata": {
        "id": "d-aTr9Kxj-kM",
        "colab_type": "code",
        "colab": {}
      },
      "source": [
        ""
      ],
      "execution_count": 0,
      "outputs": []
    }
  ]
}